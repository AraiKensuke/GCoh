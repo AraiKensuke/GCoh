{
  "nbformat": 4,
  "nbformat_minor": 0,
  "metadata": {
    "colab": {
      "name": "Untitled14.ipynb",
      "provenance": [],
      "authorship_tag": "ABX9TyOfNZ2R+kZ3yJp02daeQHLI",
      "include_colab_link": true
    },
    "kernelspec": {
      "name": "python3",
      "display_name": "Python 3"
    }
  },
  "cells": [
    {
      "cell_type": "markdown",
      "metadata": {
        "id": "view-in-github",
        "colab_type": "text"
      },
      "source": [
        "<a href=\"https://colab.research.google.com/github/AraiKensuke/GCoh/blob/master/simulations/simulated_multichannel_EEG_Gcoh.ipynb\" target=\"_parent\"><img src=\"https://colab.research.google.com/assets/colab-badge.svg\" alt=\"Open In Colab\"/></a>"
      ]
    },
    {
      "cell_type": "code",
      "metadata": {
        "id": "zkK7fy01jiB8",
        "outputId": "82ffd3d8-d625-495c-d15e-537cd49d0b74",
        "colab": {
          "base_uri": "https://localhost:8080/"
        }
      },
      "source": [
        "#########  clone and install necessary packages from github repositories\n",
        "\n",
        "import sys\n",
        "import importlib\n",
        "\n",
        "if importlib.util.find_spec(\"GCoh\") is None:\n",
        "  !git clone https://github.com/AraiKensuke/GCoh.git\n",
        "\n",
        "if importlib.util.find_spec(\"mne\") is None:\n",
        "  !pip install mne\n",
        "\n",
        "sys.path.insert(1, \"/content/GCoh\")    #  add these to searchpath for python modules"
      ],
      "execution_count": 1,
      "outputs": [
        {
          "output_type": "stream",
          "text": [
            "Cloning into 'GCoh'...\n",
            "remote: Enumerating objects: 72, done.\u001b[K\n",
            "remote: Counting objects: 100% (72/72), done.\u001b[K\n",
            "remote: Compressing objects: 100% (47/47), done.\u001b[K\n",
            "remote: Total 72 (delta 37), reused 45 (delta 20), pack-reused 0\u001b[K\n",
            "Unpacking objects: 100% (72/72), done.\n",
            "Collecting mne\n",
            "\u001b[?25l  Downloading https://files.pythonhosted.org/packages/4d/0e/6448521738d3357c205795fd5846d023bd7935bb83ba93a1ba0f7124205e/mne-0.21.2-py3-none-any.whl (6.8MB)\n",
            "\u001b[K     |████████████████████████████████| 6.8MB 8.5MB/s \n",
            "\u001b[?25hRequirement already satisfied: scipy>=0.17.1 in /usr/local/lib/python3.6/dist-packages (from mne) (1.4.1)\n",
            "Requirement already satisfied: numpy>=1.11.3 in /usr/local/lib/python3.6/dist-packages (from mne) (1.18.5)\n",
            "Installing collected packages: mne\n",
            "Successfully installed mne-0.21.2\n"
          ],
          "name": "stdout"
        }
      ]
    },
    {
      "cell_type": "code",
      "metadata": {
        "id": "ZMKNtIDGuHBh"
      },
      "source": [
        "import GCoh.datconfig"
      ],
      "execution_count": 2,
      "outputs": []
    },
    {
      "cell_type": "code",
      "metadata": {
        "id": "pFZmasOdqhX-"
      },
      "source": [
        "#####  Generate simulated EEG data.\n",
        "\n",
        "import numpy as _N\n",
        "import os\n",
        "\n",
        "import GCoh.datconfig as datconf\n",
        "import GCoh.simulations.sim_utils as _su\n",
        "\n",
        "#  grpA and grpB   can coexist\n",
        "#  grpA and grpC   can coexist\n",
        "#  grpB and grpD   can coexist\n",
        "\n",
        "grpA = _N.array([1, 2, 5])\n",
        "grpB = _N.array([3, 4, 8])\n",
        "grpC = _N.array([7, 8, 9])\n",
        "grpD = _N.array([1, 6, 7])\n",
        "grpA_phase_diff = _N.array([0, -2, 5])\n",
        "grpB_phase_diff = _N.array([0, 13, 9])\n",
        "grpC_phase_diff = _N.array([0, 1, 1])\n",
        "grpD_phase_diff = _N.array([0, 0, 0])\n",
        "\n",
        "dt   = 0.005\n",
        "nChs = 10\n",
        "N    = 10000   #(50 s)\n",
        "f    = 20      #  oscillation frequency \n",
        "amp  = 0.995\n",
        "\n",
        "#  up to 4 groups of\n",
        "rhythms = _N.zeros((nChs, N))\n",
        "pknzs   = _N.zeros((nChs, N))\n",
        "tau     = 0.15    #  timescale of AR1\n",
        "\n",
        "######  we generate simulated EEG by generating nChs of independent oscillatory\n",
        "######  signals.  \n",
        "for nc in range(nChs):\n",
        "    rhythms[nc] = _su.AR2(f, 0.98, N, dt)\n",
        "    pknzs[nc] = _su.AR1(tau, N, dt)\n",
        "EEG     = _N.array(rhythms)\n",
        "\n",
        "#mix(dt, EEG, rhythms, pknzs, grpA, 10, 15)\n",
        "_su.mix(dt, EEG, rhythms, pknzs, grpB, grpB_phase_diff, 18, 45)\n",
        "#mix(dt, EEG, rhythms, pknzs, grpD, 18, 45)\n",
        "#mix(dt, EEG, rhythms, pknzs, grpC, 28, 34)\n",
        "#mix(dt, EEG, rhythms, pknzs, grpD, 40, 45)\n",
        "\n",
        "\n",
        "\n",
        "\n"
      ],
      "execution_count": 4,
      "outputs": []
    },
    {
      "cell_type": "code",
      "metadata": {
        "id": "zzdvodpngOyV",
        "outputId": "7ed784c7-8fb6-4426-9ce3-882127d4a584",
        "colab": {
          "base_uri": "https://localhost:8080/",
          "height": 495
        }
      },
      "source": [
        "import numpy as _N\n",
        "import scipy.signal as _ssig\n",
        "import mne.time_frequency as mtf\n",
        "import mne\n",
        "import pickle\n",
        "import sys\n",
        "\n",
        "import GCoh.chronux_py.chronux_funcs as _chrf\n",
        "import preprocess_ver\n",
        "\n",
        "import GCoh.datconfig as datconf\n",
        "import GCoh.windowed_gcoh as _w_gcoh\n",
        "\n",
        "dataset =    datconf._SIM\n",
        "Fs      = 200\n",
        "\n",
        "artrmv_ver = 1\n",
        "gcoh_ver    = 1\n",
        "\n",
        "wnd, slideby      = preprocess_ver.get_win_slideby(gcoh_ver)\n",
        "\n",
        "rm_chs = []\n",
        "ch_w_CM = _N.arange(10)\n",
        "\n",
        "X_cm    = EEG\n",
        "ch_picks = _N.setdiff1d(ch_w_CM, _N.array(rm_chs))\n",
        "arr_ch_picks = _N.array(ch_picks)\n",
        "\n",
        "info = mne.create_info(ch_names=(_N.array(ch_names)[ch_picks]).tolist(), ch_types=(_N.array(ch_types)[ch_picks]).tolist(), sfreq=Fs)\n",
        "\n",
        "datconf.set_montage(dataset, info)\n",
        "\n",
        "dpss_bw=7\n",
        "f, findx, Ctot, Cvec = _w_gcoh.windowed_gcoh(Fs, wnd, slideby, X_cm, ch_w_CM, ch_picks, info, dpss_bw=dpss_bw)\n",
        "\n",
        "#pkldat = {\"VEC\" : Cvec, \"Cs\" : Ctot, \"fs\" : f[findx], \"chs_picks\" : arr_ch_picks, \"dpss_bw\" : dpss_bw}\n",
        "\n"
      ],
      "execution_count": 5,
      "outputs": [
        {
          "output_type": "error",
          "ename": "ModuleNotFoundError",
          "evalue": "ignored",
          "traceback": [
            "\u001b[0;31m---------------------------------------------------------------------------\u001b[0m",
            "\u001b[0;31mModuleNotFoundError\u001b[0m                       Traceback (most recent call last)",
            "\u001b[0;32m<ipython-input-5-5db6c7d1ed3b>\u001b[0m in \u001b[0;36m<module>\u001b[0;34m()\u001b[0m\n\u001b[1;32m     10\u001b[0m \u001b[0;34m\u001b[0m\u001b[0m\n\u001b[1;32m     11\u001b[0m \u001b[0;32mimport\u001b[0m \u001b[0mGCoh\u001b[0m\u001b[0;34m.\u001b[0m\u001b[0mdatconfig\u001b[0m \u001b[0;32mas\u001b[0m \u001b[0mdatconf\u001b[0m\u001b[0;34m\u001b[0m\u001b[0;34m\u001b[0m\u001b[0m\n\u001b[0;32m---> 12\u001b[0;31m \u001b[0;32mimport\u001b[0m \u001b[0mGCoh\u001b[0m\u001b[0;34m.\u001b[0m\u001b[0mwindowed_gcoh\u001b[0m \u001b[0;32mas\u001b[0m \u001b[0m_w_gcoh\u001b[0m\u001b[0;34m\u001b[0m\u001b[0;34m\u001b[0m\u001b[0m\n\u001b[0m\u001b[1;32m     13\u001b[0m \u001b[0;34m\u001b[0m\u001b[0m\n\u001b[1;32m     14\u001b[0m \u001b[0mdataset\u001b[0m \u001b[0;34m=\u001b[0m    \u001b[0mdatconf\u001b[0m\u001b[0;34m.\u001b[0m\u001b[0m_SIM\u001b[0m\u001b[0;34m\u001b[0m\u001b[0;34m\u001b[0m\u001b[0m\n",
            "\u001b[0;32m/content/GCoh/windowed_gcoh.py\u001b[0m in \u001b[0;36m<module>\u001b[0;34m()\u001b[0m\n\u001b[1;32m      7\u001b[0m \u001b[0;32mimport\u001b[0m \u001b[0msys\u001b[0m\u001b[0;34m\u001b[0m\u001b[0;34m\u001b[0m\u001b[0m\n\u001b[1;32m      8\u001b[0m \u001b[0;34m\u001b[0m\u001b[0m\n\u001b[0;32m----> 9\u001b[0;31m \u001b[0;32mfrom\u001b[0m \u001b[0msumojam\u001b[0m\u001b[0;34m.\u001b[0m\u001b[0mdevscripts\u001b[0m\u001b[0;34m.\u001b[0m\u001b[0mcmdlineargs\u001b[0m \u001b[0;32mimport\u001b[0m \u001b[0mprocess_keyval_args\u001b[0m\u001b[0;34m\u001b[0m\u001b[0;34m\u001b[0m\u001b[0m\n\u001b[0m\u001b[1;32m     10\u001b[0m \u001b[0;32mimport\u001b[0m \u001b[0mGCoh\u001b[0m\u001b[0;34m.\u001b[0m\u001b[0mchronux_py\u001b[0m\u001b[0;34m.\u001b[0m\u001b[0mchronux_funcs\u001b[0m \u001b[0;32mas\u001b[0m \u001b[0m_chrf\u001b[0m\u001b[0;34m\u001b[0m\u001b[0;34m\u001b[0m\u001b[0m\n\u001b[1;32m     11\u001b[0m \u001b[0;32mimport\u001b[0m \u001b[0mpreprocess_ver\u001b[0m\u001b[0;34m\u001b[0m\u001b[0;34m\u001b[0m\u001b[0m\n",
            "\u001b[0;31mModuleNotFoundError\u001b[0m: No module named 'sumojam'",
            "",
            "\u001b[0;31m---------------------------------------------------------------------------\u001b[0;32m\nNOTE: If your import is failing due to a missing package, you can\nmanually install dependencies using either !pip or !apt.\n\nTo view examples of installing some common dependencies, click the\n\"Open Examples\" button below.\n\u001b[0;31m---------------------------------------------------------------------------\u001b[0m\n"
          ]
        }
      ]
    },
    {
      "cell_type": "code",
      "metadata": {
        "id": "binNXSV-xgpt"
      },
      "source": [
        ""
      ],
      "execution_count": null,
      "outputs": []
    }
  ]
}