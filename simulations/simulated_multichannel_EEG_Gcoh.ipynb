{
  "nbformat": 4,
  "nbformat_minor": 0,
  "metadata": {
    "colab": {
      "name": "Untitled14.ipynb",
      "provenance": [],
      "authorship_tag": "ABX9TyOLA2EXQAU9mDa/Fjie9qqy",
      "include_colab_link": true
    },
    "kernelspec": {
      "name": "python3",
      "display_name": "Python 3"
    }
  },
  "cells": [
    {
      "cell_type": "markdown",
      "metadata": {
        "id": "view-in-github",
        "colab_type": "text"
      },
      "source": [
        "<a href=\"https://colab.research.google.com/github/AraiKensuke/clustering_GCoh/blob/master/simulations/simulated_multichannel_EEG_Gcoh.ipynb\" target=\"_parent\"><img src=\"https://colab.research.google.com/assets/colab-badge.svg\" alt=\"Open In Colab\"/></a>"
      ]
    },
    {
      "cell_type": "code",
      "metadata": {
        "id": "pFZmasOdqhX-"
      },
      "source": [
        "#####  Generate simulated EEG data.\n",
        "\n",
        "import numpy as _N\n",
        "import os\n",
        "\n",
        "import GCoh.datconfig as datconf\n",
        "import GCoh.simulations.sim_utils as _su\n",
        "\n",
        "#  grpA and grpB   can coexist\n",
        "#  grpA and grpC   can coexist\n",
        "#  grpB and grpD   can coexist\n",
        "\n",
        "grpA = _N.array([1, 2, 5])\n",
        "grpB = _N.array([3, 4, 8])\n",
        "grpC = _N.array([7, 8, 9])\n",
        "grpD = _N.array([1, 6, 7])\n",
        "grpA_phase_diff = _N.array([0, -2, 5])\n",
        "grpB_phase_diff = _N.array([0, 13, 9])\n",
        "grpC_phase_diff = _N.array([0, 1, 1])\n",
        "grpD_phase_diff = _N.array([0, 0, 0])\n",
        "\n",
        "dt   = 0.005\n",
        "nChs = 10\n",
        "N    = 10000   #(50 s)\n",
        "f    = 20      #  oscillation frequency \n",
        "amp  = 0.995\n",
        "\n",
        "#  up to 4 groups of\n",
        "rhythms = _N.zeros((nChs, N))\n",
        "pknzs   = _N.zeros((nChs, N))\n",
        "tau     = 0.15    #  timescale of AR1\n",
        "\n",
        "######  we generate simulated EEG by generating nChs of independent oscillatory\n",
        "######  signals.  \n",
        "for nc in range(nChs):\n",
        "    rhythms[nc] = _su.AR2(f, 0.98, N, dt)\n",
        "    pknzs[nc] = _su.AR1(tau, N, dt)\n",
        "EEG     = _N.array(rhythms)\n",
        "\n",
        "#mix(dt, EEG, rhythms, pknzs, grpA, 10, 15)\n",
        "_su.mix(dt, EEG, rhythms, pknzs, grpB, grpB_phase_diff, 18, 45)\n",
        "#mix(dt, EEG, rhythms, pknzs, grpD, 18, 45)\n",
        "#mix(dt, EEG, rhythms, pknzs, grpC, 28, 34)\n",
        "#mix(dt, EEG, rhythms, pknzs, grpD, 40, 45)\n",
        "\n",
        "outfn = _su.generate_artfctrmvd_filename()\n",
        "_N.savetxt(outfn, EEG.T, fmt=(\"%.4f \" * nChs))\n",
        "print(\"saved %s\"  % outfn)\n",
        "\n",
        "\n",
        "\n",
        "\n",
        "\n",
        "\n"
      ],
      "execution_count": null,
      "outputs": []
    }
  ]
}