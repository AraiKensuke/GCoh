{
  "nbformat": 4,
  "nbformat_minor": 0,
  "metadata": {
    "colab": {
      "name": "Untitled14.ipynb",
      "provenance": [],
      "toc_visible": true,
      "authorship_tag": "ABX9TyOxvnjAbfplpvtG/fNdcDCi",
      "include_colab_link": true
    },
    "kernelspec": {
      "name": "python3",
      "display_name": "Python 3"
    }
  },
  "cells": [
    {
      "cell_type": "markdown",
      "metadata": {
        "id": "view-in-github",
        "colab_type": "text"
      },
      "source": [
        "<a href=\"https://colab.research.google.com/github/AraiKensuke/GCoh/blob/master/simulations/simulated_multichannel_EEG_Gcoh.ipynb\" target=\"_parent\"><img src=\"https://colab.research.google.com/assets/colab-badge.svg\" alt=\"Open In Colab\"/></a>"
      ]
    },
    {
      "cell_type": "markdown",
      "metadata": {
        "id": "RkfafBkShxdp"
      },
      "source": [
        "# 1) Install necessary packages."
      ]
    },
    {
      "cell_type": "code",
      "metadata": {
        "id": "zkK7fy01jiB8"
      },
      "source": [
        "#########  clone and install necessary packages from github repositories\n",
        "\n",
        "import sys\n",
        "import importlib\n",
        "\n",
        "if importlib.util.find_spec(\"GCoh\") is None:\n",
        "  !git clone https://github.com/AraiKensuke/GCoh.git\n",
        "\n",
        "if importlib.util.find_spec(\"mne\") is None:\n",
        "  !pip install mne\n",
        "\n",
        "sys.path.insert(1, \"/content/GCoh\")    #  add these to searchpath for python modules"
      ],
      "execution_count": 46,
      "outputs": []
    },
    {
      "cell_type": "markdown",
      "metadata": {
        "id": "7zrr01x2i0DB"
      },
      "source": [
        "# 2)  Create simulated EEG data with multiple coherent channels.  \n",
        "By coherent, we mean here phase locked in some frequency range.  The EEG data we create here is a noisy oscillation in 20Hz range in each channel.  At certain times, several channels will form a temporary group that will be coherent (but can have a fixed\n",
        "phase difference between them) for a few seconds.  \n"
      ]
    },
    {
      "cell_type": "code",
      "metadata": {
        "id": "pFZmasOdqhX-"
      },
      "source": [
        "#####  Generate simulated EEG data.\n",
        "\n",
        "import numpy as _N\n",
        "import os\n",
        "\n",
        "import GCoh.datconfig as datconf\n",
        "import GCoh.simulations.sim_utils as _su\n",
        "import warnings\n",
        "\n",
        "warnings.filterwarnings(\"ignore\")\n",
        "\n",
        "###  Define groups of channels that will be coherent\n",
        "grpA = _N.array([1, 2, 5])\n",
        "grpB = _N.array([3, 4, 8])\n",
        "grpC = _N.array([7, 8, 9])\n",
        "grpD = _N.array([1, 6, 7])\n",
        "###  These groups can have some phase difference (in samples) between\n",
        "###  them.\n",
        "grpA_phase_diff = _N.array([0, -2, 5])\n",
        "grpB_phase_diff = _N.array([0, 10, -3])\n",
        "grpC_phase_diff = _N.array([0, 1, 1])\n",
        "grpD_phase_diff = _N.array([0, 0, 0])\n",
        "\n",
        "###  Simulation parameters\n",
        "Fs   = 200     #  sampling frequency of data\n",
        "dt   = 1/Fs\n",
        "nChs = 10      #  # of EEG channels\n",
        "N    = 20000   # how many temporal timepoints to generate\n",
        "f    = 20      #  oscillation frequency.  We assume all channels \n",
        "               #  are (noisly) oscillating at this frequency.\n",
        "\n",
        "###  \n",
        "rhythms = _N.zeros((nChs, N))\n",
        "pknzs   = _N.zeros((nChs, N))\n",
        "tau     = 0.15    #  timescale of AR1\n",
        "\n",
        "######  we generate simulated EEG by generating nChs of independent oscillatory\n",
        "######  signals.  \n",
        "for nc in range(nChs):\n",
        "    rhythms[nc] = _su.AR2(f, 0.97, N, dt)\n",
        "    pknzs[nc] = _su.AR1(tau, N, dt)*0.5\n",
        "EEG     = _N.array(rhythms)\n",
        "\n",
        "######  This alters the 'EEG' vector by replacing the channels defined in groups\n",
        "######  by the data in 1 of the channels in the group, and adding a bit of noise\n",
        "######  to each of the channels to simulate \"coherence\"  Then we add a bit of \n",
        "######  phase shift to each channel in the group.\n",
        "\n",
        "_su.mix(dt, EEG, rhythms, pknzs, grpB, grpB_phase_diff, 18, 30)\n",
        "_su.mix(dt, EEG, rhythms, pknzs, grpA, grpA_phase_diff, 33, 44)\n",
        "_su.mix(dt, EEG, rhythms, pknzs, grpB, grpB_phase_diff, 44, 60)\n",
        "_su.mix(dt, EEG, rhythms, pknzs, grpC, grpC_phase_diff, 65, 90)\n",
        "\n",
        "\n"
      ],
      "execution_count": 64,
      "outputs": []
    },
    {
      "cell_type": "markdown",
      "metadata": {
        "id": "zLMdUw7UheEm"
      },
      "source": [
        "# 3)  Calculate the GCoh and eigenvectors.  \n",
        "\n",
        "Here the only thing to that might need to be changed is win and slideby.  Window over which GCoh is calculated, and\n",
        "how much the window is slid (allows overlapping).  \n",
        "\n",
        "**Warning, lots of ominmous looking warnings will be printed.  Ignore these**"
      ]
    },
    {
      "cell_type": "code",
      "metadata": {
        "id": "zzdvodpngOyV",
        "outputId": "49c56708-16de-4ee9-c08c-7a7667868c8d",
        "colab": {
          "base_uri": "https://localhost:8080/"
        }
      },
      "source": [
        "import numpy as _N\n",
        "import scipy.signal as _ssig\n",
        "import mne.time_frequency as mtf\n",
        "import mne\n",
        "import pickle\n",
        "import sys\n",
        "\n",
        "import GCoh.chronux_py.chronux_funcs as _chrf\n",
        "import preprocess_ver\n",
        "\n",
        "import GCoh.datconfig as datconf\n",
        "import GCoh.windowed_gcoh as _w_gcoh\n",
        "\n",
        "dataset =    datconf._SIM    ####  Which data set to use?  \n",
        "Fs      = 200\n",
        "\n",
        "#####  These will call up preset values the win, slideby.  Don't have to use these, and\n",
        "#####  can come up with own.\n",
        "artrmv_ver = 1\n",
        "gcoh_ver    = 5\n",
        "\n",
        "wnd, slideby      = preprocess_ver.get_win_slideby(gcoh_ver)\n",
        "\n",
        "ch_names = [\"eeg1\", \"eeg2\", \"eeg3\", \"eeg4\", \"eeg5\", \"eeg6\", \"eeg7\", \"eeg8\", \"eeg9\", \"eeg10\"]\n",
        "rm_chs = []\n",
        "ch_w_CM, rm_chs, list_ch_names, ch_types = datconf.getConfig(dataset, sim_nchs=10)\n",
        "\n",
        "X_cm    = EEG.T\n",
        "\n",
        "ch_picks = _N.setdiff1d(ch_w_CM, _N.array(rm_chs))\n",
        "arr_ch_picks = _N.array(ch_picks)\n",
        "\n",
        "info = mne.create_info(ch_names=(_N.array(ch_names)[ch_picks]).tolist(), ch_types=(_N.array(ch_types)[ch_picks]).tolist(), sfreq=Fs)\n",
        "\n",
        "datconf.set_montage(dataset, info)\n",
        "\n",
        "#####  Calculate GCoh and eigenvectors\n",
        "dpss_bw=7\n",
        "f, findx, Ctot, Cvec = _w_gcoh.windowed_gcoh(Fs, wnd, slideby, X_cm, ch_w_CM, ch_picks, info, dpss_bw=dpss_bw)\n"
      ],
      "execution_count": 65,
      "outputs": [
        {
          "output_type": "stream",
          "name": "stdout",
          "text": [
            "    Using multitaper spectrum estimation with 25 DPSS windows\n",
            "Not setting metadata\n",
            "1 matching events found\n",
            "No baseline correction applied\n",
            "0 projection items activated\n",
            "win 0 of 151\n",
            "win 20 of 151\n",
            "win 40 of 151\n",
            "win 60 of 151\n",
            "win 80 of 151\n",
            "win 100 of 151\n",
            "win 120 of 151\n",
            "win 140 of 151\n"
          ]
        }
      ]
    },
    {
      "cell_type": "markdown",
      "metadata": {
        "id": "ATF0HfoojQU9"
      },
      "source": [
        "# 4) Cluster and visualize Eigenvalues"
      ]
    },
    {
      "cell_type": "code",
      "metadata": {
        "id": "LbmwytidS8el",
        "colab": {
          "base_uri": "https://localhost:8080/",
          "height": 694
        },
        "outputId": "81d17ce6-0347-48a9-b5ae-3d7f66bd30f9"
      },
      "source": [
        "import scipy.stats as _ss\n",
        "import matplotlib.pyplot as _plt\n",
        "from sklearn import mixture\n",
        "from GCoh.eeg_util import unique_in_order_of_appearance, increasing_labels_mapping, rmpd_lab_trnsfrm, find_or_retrieve_GMM_labels, shift_correlated_shuffle, mtfftc\n",
        "import GCoh.preprocess_ver as _ppv\n",
        "\n",
        "arr_ch_names = _N.array(list_ch_names)\n",
        "\n",
        "ev_n   = 0\n",
        "\n",
        "\n",
        "_WIDE = 0\n",
        "_MED  = 1\n",
        "_FINE = 2\n",
        "_FINE1 = 3   #\n",
        "\n",
        "\n",
        "_FINE = 1\n",
        "\n",
        "manual_cluster=False\n",
        "\n",
        "hlfOverlap = int((win/slideby)*0.5)\n",
        "\n",
        "strt       = 0  #  if start at middle of experiment\n",
        "A_gcoh     = Cvec[strt:]\n",
        "fs       = f[findx]\n",
        "\n",
        "imag_evs  = Cvec[strt:, :, ev_n]\n",
        "\n",
        "L_gcoh  = A_gcoh.shape[0]\n",
        "nChs    = imag_evs.shape[2]\n",
        "real_evs  = _N.empty((L_gcoh, fs.shape[0], nChs))\n",
        "\n",
        "\n",
        "\n",
        "chs = _N.arange(nChs)\n",
        "ch_names = arr_ch_names[chs].tolist()\n",
        "\n",
        "for ti in range(L_gcoh):\n",
        "    real_evs[ti] = _N.abs(imag_evs[ti])\n",
        "\n",
        "mn = _N.mean(real_evs, axis=0)\n",
        "sd = _N.std(real_evs, axis=0)\n",
        "\n",
        "\n",
        "frngs = [15, 25]    ##  frequency ranges (low and high) to look at for clustering.  \n",
        "\n",
        "ignore_stored = True\n",
        "pcs     = _N.empty(len(frngs))\n",
        "####  set range of clusters to look for\n",
        "minK    =1\n",
        "maxK    =9\n",
        "\n",
        "try_Ks  = _N.arange(minK, maxK+1)\n",
        "#TRs      = _N.array([1, 1, 3, 5, 10, 15, 20, 25, 25])  # more tries for higher K\n",
        "TRs      = _N.array([1, 15, 20, 25, 25, 30, 40, 50, 60, 60, 60, 60, 60, 60, 80, 80, 80, 80])  # more tries for higher K\n",
        "\n",
        "bics = _N.ones(((maxK-minK), _N.max(TRs)))*1000000\n",
        "labs = _N.empty((maxK-minK, _N.max(TRs), real_evs.shape[0]), dtype=_N.int)\n",
        "\n",
        "nState_start = 0\n",
        "\n",
        "fL = frngs[0]\n",
        "fH = frngs[1]\n",
        "\n",
        "irngs = _N.where((fs > fL) & (fs < fH))[0]\n",
        "iL    = irngs[0]\n",
        "iH    = irngs[-1]    \n",
        "\n",
        "\n",
        "gcoh_ver=2\n",
        "#Apr242020_16_53_03_gcoh_256_64\n",
        "nStates, rmpd_lab = find_or_retrieve_GMM_labels(None, None, None, real_evs, iL, iH, fL, fH, artrmv_ver, gcoh_ver, which=0, try_K=try_Ks, TRs=TRs, ignore_stored=ignore_stored, manual_cluster=manual_cluster, do_pca=False, min_var_expld=0.95, dontsave=True)\n",
        "ps = _N.arange(nStates)\n",
        "ps += nState_start\n",
        "nState_start += nStates\n",
        "\n",
        "#nStates, rmpd_lab = find_or_retrieve_GMM_labels(rpsm[dat], \"%(dat)s_gcoh_%(w)d_%(s)d\" % {\"dat\" : dat, \"w\" : bin, \"s\" : slide}, real_evs, iL, iH, fL, fH, which=0, try_K=try_Ks, TRs=TRs, log_transform=False)\n",
        "\"\"\"\n",
        "###############\n",
        "for K in range(minK, maxK):\n",
        "    for tr in range(TRs[K]):\n",
        "        gmm = mixture.GaussianMixture(n_components=K, covariance_type=\"full\")\n",
        "\n",
        "        gmm.fit(_N.sum(real_evs[:, iL:iH], axis=1))\n",
        "        bics[K-minK, tr] = gmm.bic(_N.sum(real_evs[:, iL:iH], axis=1))\n",
        "        labs[K-minK, tr] = gmm.predict(_N.sum(real_evs[:, iL:iH], axis=1))\n",
        "\n",
        "coords = _N.where(bics == _N.min(bics))\n",
        "print(\"min bic %.4e\" % _N.min(bics))\n",
        "bestLab = labs[coords[0][0], coords[1][0]]   #  indices in 2-D array\n",
        "rmpd_lab = increasing_labels_mapping(bestLab)\n",
        "\n",
        "nStates =  list(range(minK, maxK))[coords[0][0]]\n",
        "\"\"\"\n",
        "out_u = _N.mean(real_evs[:, iL:iH], axis=1)\n",
        "out = _N.empty((L_gcoh, nChs))\n",
        "iS  = 0\n",
        "for ns in range(nStates):\n",
        "    ls = _N.where(rmpd_lab == ns)[0]\n",
        "    out[iS:iS+len(ls)] = _N.mean(real_evs[ls, iL:iH], axis=1)\n",
        "    iS += len(ls)\n",
        "\n",
        "iS = 0\n",
        "clrs  = [\"black\", \"orange\", \"blue\", \"green\", \"red\", \"lightblue\", \"grey\", \"pink\", \"yellow\", \"brown\", \"cyan\", \"purple\", \"black\", \"orange\", \"blue\", \"green\", \"red\", \"black\", \"orange\", \"blue\", \"green\", \"red\", \"lightblue\", \"grey\", \"pink\", \"yellow\", \"brown\", \"cyan\", \"purple\", \"black\", \"orange\", \"blue\", \"green\", \"red\"]\n",
        "W   = L_gcoh\n",
        "H   = nChs\n",
        "disp_wh_ratio = 5\n",
        "aspect = (W/H)/disp_wh_ratio\n",
        "unit = 2.5\n",
        "fig = _plt.figure(figsize=(disp_wh_ratio*unit + 1, 3*unit+unit/2))\n",
        "#   time of middle of window in which GCoh calculated\n",
        "gcoh_ts = _N.linspace(0, (slideby/Fs)*L_gcoh, L_gcoh, endpoint=False) + (win/2)/Fs\n",
        "gcoh_bins=_N.arange(L_gcoh)\n",
        "T_max   = gcoh_ts[-1]\n",
        "time_at_ticks = _N.array(_N.linspace(0, _N.floor(T_max/10)*10, 10), dtype=_N.int)\n",
        "bin_at_ticks = _N.interp(time_at_ticks, gcoh_ts, gcoh_bins)\n",
        "\n",
        "_plt.subplot2grid((2, 1), (0, 0))        \n",
        "_plt.title(\"1st GCoh eigenvector - temporal order\")\n",
        "#fig.add_subplot(nStates+2, 1, 1)  \n",
        "_plt.imshow(out_u.T, aspect=aspect)\n",
        "_plt.ylim(-(nStates+2), nChs+0.1)\n",
        "for ns in range(nStates):\n",
        "    nsx = _N.where(rmpd_lab == ns)[0]\n",
        "    _plt.scatter(nsx, _N.ones(len(nsx))*ns - nStates - 1, color=clrs[ns], lw=1.5, s=4)\n",
        "_plt.xlim(0, L_gcoh)\n",
        "_plt.xlabel(\"(sample #) - not in experimental temporal order\", fontsize=17)\n",
        "_plt.ylabel(\"electrode #\", fontsize=16)\n",
        "_plt.xlabel(\"time (sec)\", fontsize=16)\n",
        "_plt.xticks(bin_at_ticks, time_at_ticks, fontsize=14)\n",
        "_plt.yticks(fontsize=14)\n",
        "\n",
        "_plt.subplot2grid((2, 1), (1, 0))        \n",
        "_plt.title(\"1st GCoh eigenvector - reordered by cluster label\")\n",
        "#fig.add_subplot(nStates+2, 1, 1)    \n",
        "_plt.imshow(out.T, aspect=aspect)\n",
        "_plt.ylim(-(nStates+2), nChs+0.1)\n",
        "for ns in range(nStates):\n",
        "    ls = _N.where(rmpd_lab == ns)[0]\n",
        "    liS = iS\n",
        "    iS += len(ls)\n",
        "    _plt.plot([liS, iS], [ns-nStates-1, ns-nStates-1], color=clrs[ns], lw=3.5)\n",
        "    if ns < nStates-1:\n",
        "        _plt.axvline(x=iS, color=\"white\", lw=1)\n",
        "_plt.xlim(0, L_gcoh)\n",
        "_plt.suptitle(\"%(1)d-%(2)dHz    GCoh val: %(gcoh).3f   %(sts)s\" % {\"1\" : fL, \"2\" : fH, \"gcoh\" : _N.mean(Ctot[:, irngs]), \"sts\" : str(ps)})\n",
        "_plt.xlabel(\"(sample #) - not in experimental temporal order\", fontsize=17)\n",
        "_plt.ylabel(\"electrode #\", fontsize=16)\n",
        "_plt.xlabel(\"time (sec) - use to gauge total time spent in each pattern\", fontsize=16)\n",
        "_plt.xticks(bin_at_ticks, time_at_ticks, fontsize=14)\n",
        "_plt.yticks(fontsize=14)\n",
        "\n",
        "iS = 0\n",
        "for ns in range(nStates):\n",
        "    ls = _N.where(rmpd_lab == ns)[0]\n",
        "    iS += len(ls)\n",
        "    if ns < nStates-1:\n",
        "        _plt.axvline(x=iS, color=\"white\", lw=1)\n",
        "fig.subplots_adjust(left=0.1, bottom=0.1, right=0.9, hspace=0.3)\n"
      ],
      "execution_count": 67,
      "outputs": [
        {
          "output_type": "stream",
          "name": "stdout",
          "text": [
            "doing GMM\n",
            "@!!!!! \n",
            "(array([5]), array([35]))\n",
            "manual_clustering   False\n"
          ]
        },
        {
          "output_type": "display_data",
          "data": {
            "text/plain": [
              "<Figure size 972x630 with 2 Axes>"
            ],
            "image/png": "[encoded data removed]"
          },
          "metadata": {
            "needs_background": "light"
          }
        }
      ]
    },
    {
      "cell_type": "markdown",
      "source": [
        "**Ground truth patterns**\n",
        "\n",
        "18-30:  pattern 1    (1, 2, 5)\n",
        "\n",
        "33-44:  pattern 2    (3, 4, 8)\n",
        "\n",
        "44-60:  pattern 1    (1, 2, 5)\n",
        "\n",
        "65-90:  pattern 3    (7, 8, 9)\n",
        "\n",
        "pattern 0 at all other times"
      ],
      "metadata": {
        "id": "XDKWyA8MbeVV"
      }
    }
  ]
}