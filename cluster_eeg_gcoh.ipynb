{
  "nbformat": 4,
  "nbformat_minor": 0,
  "metadata": {
    "colab": {
      "name": "Untitled13.ipynb",
      "provenance": [],
      "authorship_tag": "ABX9TyO9laZXrg3p3wqzGwY8ZhAx",
      "include_colab_link": true
    },
    "kernelspec": {
      "name": "python3",
      "display_name": "Python 3"
    }
  },
  "cells": [
    {
      "cell_type": "markdown",
      "metadata": {
        "id": "view-in-github",
        "colab_type": "text"
      },
      "source": [
        "<a href=\"https://colab.research.google.com/github/AraiKensuke/GCoh/blob/Include_dpss_bw_in_preprocessver/cluster_eeg_gcoh.ipynb\" target=\"_parent\"><img src=\"https://colab.research.google.com/assets/colab-badge.svg\" alt=\"Open In Colab\"/></a>"
      ]
    },
    {
      "cell_type": "markdown",
      "source": [
        "**Install GCoh package**"
      ],
      "metadata": {
        "id": "TrxOEUqqjN2X"
      }
    },
    {
      "cell_type": "code",
      "source": [
        "#########  clone and install necessary packages from github repositories\n",
        "\n",
        "\n",
        "import sys\n",
        "import importlib\n",
        "\n",
        "if importlib.util.find_spec(\"GCoh\") is None:\n",
        "  !git clone https://github.com/AraiKensuke/GCoh.git\n",
        "\n",
        "if importlib.util.find_spec(\"mne\") is None:\n",
        "  !pip install mne\n",
        "\n",
        "sys.path.insert(1, \"/content/GCoh\")    #  add these to searchpath for python module"
      ],
      "metadata": {
        "colab": {
          "base_uri": "https://localhost:8080/"
        },
        "id": "WOUdKlxd_jAa",
        "outputId": "83fc28f1-d80d-40d9-addd-8a3b686f9f89"
      },
      "execution_count": 1,
      "outputs": [
        {
          "output_type": "stream",
          "name": "stdout",
          "text": [
            "Cloning into 'GCoh'...\n",
            "remote: Enumerating objects: 220, done.\u001b[K\n",
            "remote: Counting objects: 100% (220/220), done.\u001b[K\n",
            "remote: Compressing objects: 100% (182/182), done.\u001b[K\n",
            "remote: Total 220 (delta 135), reused 77 (delta 33), pack-reused 0\u001b[K\n",
            "Receiving objects: 100% (220/220), 805.23 KiB | 13.20 MiB/s, done.\n",
            "Resolving deltas: 100% (135/135), done.\n",
            "Looking in indexes: https://pypi.org/simple, https://us-python.pkg.dev/colab-wheels/public/simple/\n",
            "Collecting mne\n",
            "  Downloading mne-1.2.2-py3-none-any.whl (7.6 MB)\n",
            "\u001b[K     |████████████████████████████████| 7.6 MB 5.3 MB/s \n",
            "\u001b[?25hRequirement already satisfied: tqdm in /usr/local/lib/python3.7/dist-packages (from mne) (4.64.1)\n",
            "Requirement already satisfied: numpy>=1.15.4 in /usr/local/lib/python3.7/dist-packages (from mne) (1.21.6)\n",
            "Requirement already satisfied: packaging in /usr/local/lib/python3.7/dist-packages (from mne) (21.3)\n",
            "Requirement already satisfied: jinja2 in /usr/local/lib/python3.7/dist-packages (from mne) (2.11.3)\n",
            "Requirement already satisfied: scipy>=1.1.0 in /usr/local/lib/python3.7/dist-packages (from mne) (1.7.3)\n",
            "Requirement already satisfied: pooch>=1.5 in /usr/local/lib/python3.7/dist-packages (from mne) (1.6.0)\n",
            "Requirement already satisfied: decorator in /usr/local/lib/python3.7/dist-packages (from mne) (4.4.2)\n",
            "Requirement already satisfied: matplotlib in /usr/local/lib/python3.7/dist-packages (from mne) (3.2.2)\n",
            "Requirement already satisfied: appdirs>=1.3.0 in /usr/local/lib/python3.7/dist-packages (from pooch>=1.5->mne) (1.4.4)\n",
            "Requirement already satisfied: requests>=2.19.0 in /usr/local/lib/python3.7/dist-packages (from pooch>=1.5->mne) (2.23.0)\n",
            "Requirement already satisfied: pyparsing!=3.0.5,>=2.0.2 in /usr/local/lib/python3.7/dist-packages (from packaging->mne) (3.0.9)\n",
            "Requirement already satisfied: chardet<4,>=3.0.2 in /usr/local/lib/python3.7/dist-packages (from requests>=2.19.0->pooch>=1.5->mne) (3.0.4)\n",
            "Requirement already satisfied: idna<3,>=2.5 in /usr/local/lib/python3.7/dist-packages (from requests>=2.19.0->pooch>=1.5->mne) (2.10)\n",
            "Requirement already satisfied: certifi>=2017.4.17 in /usr/local/lib/python3.7/dist-packages (from requests>=2.19.0->pooch>=1.5->mne) (2022.9.24)\n",
            "Requirement already satisfied: urllib3!=1.25.0,!=1.25.1,<1.26,>=1.21.1 in /usr/local/lib/python3.7/dist-packages (from requests>=2.19.0->pooch>=1.5->mne) (1.24.3)\n",
            "Requirement already satisfied: MarkupSafe>=0.23 in /usr/local/lib/python3.7/dist-packages (from jinja2->mne) (2.0.1)\n",
            "Requirement already satisfied: kiwisolver>=1.0.1 in /usr/local/lib/python3.7/dist-packages (from matplotlib->mne) (1.4.4)\n",
            "Requirement already satisfied: python-dateutil>=2.1 in /usr/local/lib/python3.7/dist-packages (from matplotlib->mne) (2.8.2)\n",
            "Requirement already satisfied: cycler>=0.10 in /usr/local/lib/python3.7/dist-packages (from matplotlib->mne) (0.11.0)\n",
            "Requirement already satisfied: typing-extensions in /usr/local/lib/python3.7/dist-packages (from kiwisolver>=1.0.1->matplotlib->mne) (4.1.1)\n",
            "Requirement already satisfied: six>=1.5 in /usr/local/lib/python3.7/dist-packages (from python-dateutil>=2.1->matplotlib->mne) (1.15.0)\n",
            "Installing collected packages: mne\n",
            "Successfully installed mne-1.2.2\n"
          ]
        }
      ]
    },
    {
      "cell_type": "markdown",
      "source": [
        "**Upload EDF file to Colab**\n",
        "\n",
        "Enter filename down below.\n",
        "\n",
        "Then goto \"File\" space on the left, choose the upload icon, and upload an EDFfile\n",
        "\n",
        "Type in filename of uploaded file in to variable \"dat\""
      ],
      "metadata": {
        "id": "wsR9xxabjdj-"
      }
    },
    {
      "cell_type": "code",
      "source": [
        "#dat=\"8_12_2min_raw[11973].edf\"\n",
        "dat=\"Dec012021_02_00_00.edf\""
      ],
      "metadata": {
        "id": "mvbdGrLxmwGz"
      },
      "execution_count": 32,
      "outputs": []
    },
    {
      "cell_type": "markdown",
      "source": [
        "**Prepare the data**"
      ],
      "metadata": {
        "id": "y0TxdJkdo04X"
      }
    },
    {
      "cell_type": "code",
      "source": [
        "import numpy as _N\n",
        "import scipy.io as _scio\n",
        "import scipy.stats as _ss\n",
        "import matplotlib.pyplot as _plt\n",
        "from scipy.signal import savgol_filter\n",
        "from sklearn import mixture\n",
        "import mne\n",
        "from GCoh.eeg_util import unique_in_order_of_appearance, increasing_labels_mapping, rmpd_lab_trnsfrm, find_GMM_labels, shift_correlated_shuffle, mtfftc\n",
        "import GCoh.skull_plot as _sp\n",
        "import os\n",
        "#import AIiRPS.rpsms as rpsms\n",
        "import GCoh.preprocess_ver as _ppv\n",
        "#from AIiRPS.utils.dir_util import getResultFN\n",
        "import GCoh.datconfig as datconf\n",
        "\n",
        "import GCoh.windowed_gcoh as _w_gcoh\n",
        "import warnings\n",
        "warnings.filterwarnings(\"ignore\")\n",
        "\n",
        "os.environ[\"GCoh_on_colab\"] = \"1\"\n",
        "\n",
        "import sys\n",
        "\n",
        "def calc_gcoh(X_cm, datset, bad_chs, wnd, slideby):\n",
        "  #  assign a version number for GCoh calculation here.\n",
        "\n",
        "  #wnd, slideby      = preprocess_ver.get_win_slideby(gcoh_ver)\n",
        "\n",
        "  #cm    = 9     #  this is when using Q20\n",
        "  cm    = None   #  this is when using DSi\n",
        "\n",
        "  ch_w_CM, rm_chs, ch_names, ch_types = datconf.getConfig(dataset, sim_nchs=10, cm=cm)\n",
        "\n",
        "  if bad_chs is not None:\n",
        "      rm_chs.extend(bad_chs)\n",
        "  ch_picks = _N.setdiff1d(ch_w_CM, _N.array(rm_chs))\n",
        "  arr_ch_picks = _N.array(ch_picks)\n",
        "\n",
        "  info = mne.create_info(ch_names=(_N.array(ch_names)[ch_picks]).tolist(), ch_types=(_N.array(ch_types)[ch_picks]).tolist(), sfreq=Fs)\n",
        "\n",
        "  datconf.set_montage(dataset, info)\n",
        "\n",
        "  dpss_bw=7\n",
        "  f, findx, Ctot, Cvec = _w_gcoh.windowed_gcoh(Fs, wnd, slideby, X_cm, ch_w_CM, ch_picks, info, dpss_bw=dpss_bw)\n",
        "\n",
        "  pkldat = {\"VEC\" : Cvec, \"Cs\" : Ctot, \"fs\" : f[findx], \"chs_picks\" : arr_ch_picks, \"dpss_bw\" : dpss_bw}\n",
        "\n",
        "  return pkldat\n",
        "\n",
        "def depickle(s):\n",
        "     import pickle\n",
        "     with open(s, \"rb\") as f:\n",
        "          lm = pickle.load(f)\n",
        "     return lm\n",
        "\n",
        "\n",
        "dataset =    datconf._RPS\n",
        "c    = 2\n",
        "if dataset == datconf._SIM:\n",
        "    Fs   = 200\n",
        "if dataset == datconf._RPS or dataset == datconf._STROOP:\n",
        "    Fs   = 300\n",
        "elif dataset == datconf._GONOGO:\n",
        "    Fs   = 500\n",
        "elif dataset == datconf._AAFFECT:\n",
        "    Fs   = 500\n",
        "\n",
        "ch_w_CM, rm_chs, list_ch_names, ch_types = datconf.getConfig(dataset, sim_nchs=10)\n",
        "arr_ch_names = _N.array(list_ch_names)\n",
        "\n",
        "# arr_ch_names=_N.array([\"P3\", \"C3\", \"F3\", \"Fz\", \"F4\",   \n",
        "#                        \"C4\", \"P4\", \"Cz\", \"Pz\", \"A1\",    #  \"Pz\" is \"CM\"\n",
        "#                        \"Fp1\",\"Fp2\",\"T3\", \"T5\", \"O1\",\n",
        "#                        \"O2\", \"F7\", \"F8\", \"A2\", \"T6\",\n",
        "#                        \"T4\"])\n",
        "\n",
        "ev_n   = 0\n",
        "\n",
        "\n",
        "_WIDE = 0\n",
        "_MED  = 1\n",
        "_FINE = 2\n",
        "_FINE1 = 3   #\n",
        "\n",
        "\n",
        "\n",
        "#bin     = 384\n",
        "#slide   = 64\n",
        "_WIDE = 0\n",
        "_FINE = 1\n",
        "\n",
        "manual_cluster=False\n",
        "armv_ver = 1\n",
        "gcoh_ver = 4   #  bandwidth 7 ver 1, bandwidth 5 ver 2, bandwidth 9 ver 3\n",
        "\n",
        "#process_keyval_args(globals(), sys.argv[1:])\n",
        "win, slideby      = _ppv.get_win_slideby(gcoh_ver)\n",
        "\n",
        "hlfOverlap = int((win/slideby)*0.5)\n",
        "\n",
        "eegedf = mne.io.read_raw_edf(dat)\n",
        "eegdat = eegedf.get_data()\n",
        "\n",
        "####  Low-pass filter the channels\n",
        "eeg_LP = _N.array(eegdat)\n",
        "\n",
        "for ich in range(25):\n",
        "    eeg_LP[ich] = mne.filter.filter_data(eegdat[ich], 300, 1, 100, verbose=False)"
      ],
      "metadata": {
        "colab": {
          "base_uri": "https://localhost:8080/"
        },
        "id": "Pma-VCjh-4jj",
        "outputId": "624f5e73-476b-4498-b2b6-7e8178f97982"
      },
      "execution_count": 33,
      "outputs": [
        {
          "output_type": "stream",
          "name": "stdout",
          "text": [
            "Extracting EDF parameters from /content/Dec012021_02_00_00_artfctrmvd_v1.edf...\n",
            "EDF file detected\n",
            "Setting channel info structure...\n",
            "Creating raw.info structure...\n"
          ]
        }
      ]
    },
    {
      "cell_type": "code",
      "source": [
        "eegdat.shape"
      ],
      "metadata": {
        "id": "fpdnvnYrviMg",
        "outputId": "dc866e93-9710-448b-e2d5-1301da1c6499",
        "colab": {
          "base_uri": "https://localhost:8080/"
        }
      },
      "execution_count": 34,
      "outputs": [
        {
          "output_type": "execute_result",
          "data": {
            "text/plain": [
              "(25, 182400)"
            ]
          },
          "metadata": {},
          "execution_count": 34
        }
      ]
    },
    {
      "cell_type": "markdown",
      "source": [
        "**Now run GCoh on LPd EEG data**"
      ],
      "metadata": {
        "id": "7UfWjzLtkAQa"
      }
    },
    {
      "cell_type": "code",
      "source": [
        "gcoh_pkl = calc_gcoh(eeg_LP.T, dataset, None, 512, 256)\n",
        "vec_mag = _N.abs(gcoh_pkl[\"VEC\"])\n",
        "fs_gcoh = gcoh_pkl[\"fs\"]\n",
        "fs_gcoh"
      ],
      "metadata": {
        "colab": {
          "base_uri": "https://localhost:8080/"
        },
        "id": "PkJZfWMdqXhf",
        "outputId": "769cd7af-dfed-4815-ed42-1b96b6668c66"
      },
      "execution_count": 35,
      "outputs": [
        {
          "output_type": "stream",
          "name": "stdout",
          "text": [
            "    Using multitaper spectrum estimation with 11 DPSS windows\n",
            "Not setting metadata\n",
            "1 matching events found\n",
            "No baseline correction applied\n",
            "0 projection items activated\n",
            "win 0 of 711\n",
            "win 20 of 711\n",
            "win 40 of 711\n",
            "win 60 of 711\n",
            "win 80 of 711\n",
            "win 100 of 711\n",
            "win 120 of 711\n",
            "win 140 of 711\n",
            "win 160 of 711\n",
            "win 180 of 711\n",
            "win 200 of 711\n",
            "win 220 of 711\n",
            "win 240 of 711\n",
            "win 260 of 711\n",
            "win 280 of 711\n",
            "win 300 of 711\n",
            "win 320 of 711\n",
            "win 340 of 711\n",
            "win 360 of 711\n",
            "win 380 of 711\n",
            "win 400 of 711\n",
            "win 420 of 711\n",
            "win 440 of 711\n",
            "win 460 of 711\n",
            "win 480 of 711\n",
            "win 500 of 711\n",
            "win 520 of 711\n",
            "win 540 of 711\n",
            "win 560 of 711\n",
            "win 580 of 711\n",
            "win 600 of 711\n",
            "win 620 of 711\n",
            "win 640 of 711\n",
            "win 660 of 711\n",
            "win 680 of 711\n",
            "win 700 of 711\n"
          ]
        },
        {
          "output_type": "execute_result",
          "data": {
            "text/plain": [
              "array([ 5.2734375,  5.859375 ,  6.4453125,  7.03125  ,  7.6171875,\n",
              "        8.203125 ,  8.7890625,  9.375    ,  9.9609375, 10.546875 ,\n",
              "       11.1328125, 11.71875  , 12.3046875, 12.890625 , 13.4765625,\n",
              "       14.0625   , 14.6484375, 15.234375 , 15.8203125, 16.40625  ,\n",
              "       16.9921875, 17.578125 , 18.1640625, 18.75     , 19.3359375,\n",
              "       19.921875 , 20.5078125, 21.09375  , 21.6796875, 22.265625 ,\n",
              "       22.8515625, 23.4375   , 24.0234375, 24.609375 , 25.1953125,\n",
              "       25.78125  , 26.3671875, 26.953125 , 27.5390625, 28.125    ,\n",
              "       28.7109375, 29.296875 , 29.8828125, 30.46875  , 31.0546875,\n",
              "       31.640625 , 32.2265625, 32.8125   , 33.3984375, 33.984375 ,\n",
              "       34.5703125, 35.15625  , 35.7421875, 36.328125 , 36.9140625,\n",
              "       37.5      , 38.0859375, 38.671875 , 39.2578125, 39.84375  ,\n",
              "       40.4296875, 41.015625 , 41.6015625, 42.1875   , 42.7734375,\n",
              "       43.359375 , 43.9453125, 44.53125  , 45.1171875, 45.703125 ,\n",
              "       46.2890625, 46.875    , 47.4609375, 48.046875 , 48.6328125,\n",
              "       49.21875  , 49.8046875])"
            ]
          },
          "metadata": {},
          "execution_count": 35
        }
      ]
    },
    {
      "cell_type": "markdown",
      "source": [
        "**Plot the EV timeseries**"
      ],
      "metadata": {
        "id": "pxjpRO5LkjaQ"
      }
    },
    {
      "cell_type": "code",
      "source": [
        "f_ranges = [[5,8], [8, 14], [15, 25],[25, 35], [35, 45]]\n",
        "\n",
        "fig = _plt.figure(figsize=(10, 4*len(f_ranges)))\n",
        "\n",
        "fi = 0\n",
        "for frng in f_ranges:\n",
        "  fi += 1\n",
        "  fig.add_subplot(len(f_ranges), 1, fi) \n",
        "  finds = _N.where((fs_gcoh >= frng[0]) & (fs_gcoh < frng[1]))[0]\n",
        "  gcoh_frng = _N.mean(vec_mag[finds], axis=0)\n",
        "\n",
        "  _plt.title(\"Freq range %(1)d-%(2)d\" % {\"1\" : frng[0], \"2\" : frng[1]})\n",
        "  _plt.imshow(gcoh_frng[:, 0].T)\n",
        "\n"
      ],
      "metadata": {
        "colab": {
          "base_uri": "https://localhost:8080/",
          "height": 1000
        },
        "id": "lrc2iO2bvzGR",
        "outputId": "1b5491ed-bfca-4382-8bfd-274f5b497a7c"
      },
      "execution_count": 36,
      "outputs": [
        {
          "output_type": "display_data",
          "data": {
            "text/plain": [
              "<Figure size 720x1440 with 5 Axes>"
            ],
            "image/png": "[encoded data removed]"
          },
          "metadata": {
            "needs_background": "light"
          }
        }
      ]
    },
    {
      "cell_type": "code",
      "source": [],
      "metadata": {
        "id": "1v3OyWLcvXz3"
      },
      "execution_count": null,
      "outputs": []
    }
  ]
}