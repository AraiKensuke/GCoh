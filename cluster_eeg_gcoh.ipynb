{
  "nbformat": 4,
  "nbformat_minor": 0,
  "metadata": {
    "colab": {
      "name": "Untitled13.ipynb",
      "provenance": [],
      "authorship_tag": "ABX9TyN8c/hwq7scS4eelNThZwbx",
      "include_colab_link": true
    },
    "kernelspec": {
      "name": "python3",
      "display_name": "Python 3"
    }
  },
  "cells": [
    {
      "cell_type": "markdown",
      "metadata": {
        "id": "view-in-github",
        "colab_type": "text"
      },
      "source": [
        "<a href=\"https://colab.research.google.com/github/AraiKensuke/GCoh/blob/Include_dpss_bw_in_preprocessver/cluster_eeg_gcoh.ipynb\" target=\"_parent\"><img src=\"https://colab.research.google.com/assets/colab-badge.svg\" alt=\"Open In Colab\"/></a>"
      ]
    },
    {
      "cell_type": "markdown",
      "source": [
        "**Install GCoh package**"
      ],
      "metadata": {
        "id": "TrxOEUqqjN2X"
      }
    },
    {
      "cell_type": "code",
      "source": [
        "#########  clone and install necessary packages from github repositories\n",
        "\n",
        "import sys\n",
        "import importlib\n",
        "\n",
        "if importlib.util.find_spec(\"GCoh\") is None:\n",
        "  !git clone https://github.com/AraiKensuke/GCoh.git\n",
        "\n",
        "if importlib.util.find_spec(\"mne\") is None:\n",
        "  !pip install mne\n",
        "\n",
        "sys.path.insert(1, \"/content/GCoh\")    #  add these to searchpath for python module"
      ],
      "metadata": {
        "colab": {
          "base_uri": "https://localhost:8080/"
        },
        "id": "WOUdKlxd_jAa",
        "outputId": "b7a310cd-500f-4ad8-ebc7-dc6f72fccc2d"
      },
      "execution_count": 1,
      "outputs": [
        {
          "output_type": "stream",
          "name": "stdout",
          "text": [
            "Cloning into 'GCoh'...\n",
            "remote: Enumerating objects: 197, done.\u001b[K\n",
            "remote: Counting objects: 100% (197/197), done.\u001b[K\n",
            "remote: Compressing objects: 100% (159/159), done.\u001b[K\n",
            "remote: Total 197 (delta 123), reused 78 (delta 33), pack-reused 0\u001b[K\n",
            "Receiving objects: 100% (197/197), 498.32 KiB | 2.19 MiB/s, done.\n",
            "Resolving deltas: 100% (123/123), done.\n",
            "Looking in indexes: https://pypi.org/simple, https://us-python.pkg.dev/colab-wheels/public/simple/\n",
            "Collecting mne\n",
            "  Downloading mne-1.2.2-py3-none-any.whl (7.6 MB)\n",
            "\u001b[K     |████████████████████████████████| 7.6 MB 14.5 MB/s \n",
            "\u001b[?25hRequirement already satisfied: decorator in /usr/local/lib/python3.7/dist-packages (from mne) (4.4.2)\n",
            "Requirement already satisfied: jinja2 in /usr/local/lib/python3.7/dist-packages (from mne) (2.11.3)\n",
            "Requirement already satisfied: tqdm in /usr/local/lib/python3.7/dist-packages (from mne) (4.64.1)\n",
            "Requirement already satisfied: packaging in /usr/local/lib/python3.7/dist-packages (from mne) (21.3)\n",
            "Requirement already satisfied: scipy>=1.1.0 in /usr/local/lib/python3.7/dist-packages (from mne) (1.7.3)\n",
            "Requirement already satisfied: numpy>=1.15.4 in /usr/local/lib/python3.7/dist-packages (from mne) (1.21.6)\n",
            "Requirement already satisfied: pooch>=1.5 in /usr/local/lib/python3.7/dist-packages (from mne) (1.6.0)\n",
            "Requirement already satisfied: matplotlib in /usr/local/lib/python3.7/dist-packages (from mne) (3.2.2)\n",
            "Requirement already satisfied: requests>=2.19.0 in /usr/local/lib/python3.7/dist-packages (from pooch>=1.5->mne) (2.23.0)\n",
            "Requirement already satisfied: appdirs>=1.3.0 in /usr/local/lib/python3.7/dist-packages (from pooch>=1.5->mne) (1.4.4)\n",
            "Requirement already satisfied: pyparsing!=3.0.5,>=2.0.2 in /usr/local/lib/python3.7/dist-packages (from packaging->mne) (3.0.9)\n",
            "Requirement already satisfied: idna<3,>=2.5 in /usr/local/lib/python3.7/dist-packages (from requests>=2.19.0->pooch>=1.5->mne) (2.10)\n",
            "Requirement already satisfied: chardet<4,>=3.0.2 in /usr/local/lib/python3.7/dist-packages (from requests>=2.19.0->pooch>=1.5->mne) (3.0.4)\n",
            "Requirement already satisfied: urllib3!=1.25.0,!=1.25.1,<1.26,>=1.21.1 in /usr/local/lib/python3.7/dist-packages (from requests>=2.19.0->pooch>=1.5->mne) (1.24.3)\n",
            "Requirement already satisfied: certifi>=2017.4.17 in /usr/local/lib/python3.7/dist-packages (from requests>=2.19.0->pooch>=1.5->mne) (2022.9.24)\n",
            "Requirement already satisfied: MarkupSafe>=0.23 in /usr/local/lib/python3.7/dist-packages (from jinja2->mne) (2.0.1)\n",
            "Requirement already satisfied: python-dateutil>=2.1 in /usr/local/lib/python3.7/dist-packages (from matplotlib->mne) (2.8.2)\n",
            "Requirement already satisfied: cycler>=0.10 in /usr/local/lib/python3.7/dist-packages (from matplotlib->mne) (0.11.0)\n",
            "Requirement already satisfied: kiwisolver>=1.0.1 in /usr/local/lib/python3.7/dist-packages (from matplotlib->mne) (1.4.4)\n",
            "Requirement already satisfied: typing-extensions in /usr/local/lib/python3.7/dist-packages (from kiwisolver>=1.0.1->matplotlib->mne) (4.1.1)\n",
            "Requirement already satisfied: six>=1.5 in /usr/local/lib/python3.7/dist-packages (from python-dateutil>=2.1->matplotlib->mne) (1.15.0)\n",
            "Installing collected packages: mne\n",
            "Successfully installed mne-1.2.2\n"
          ]
        }
      ]
    },
    {
      "cell_type": "markdown",
      "source": [
        "** Upload EDF file to Colab **"
      ],
      "metadata": {
        "id": "wsR9xxabjdj-"
      }
    },
    {
      "cell_type": "code",
      "source": [
        "import numpy as _N\n",
        "import scipy.io as _scio\n",
        "import scipy.stats as _ss\n",
        "import matplotlib.pyplot as _plt\n",
        "from scipy.signal import savgol_filter\n",
        "from sklearn import mixture\n",
        "import mne\n",
        "from GCoh.eeg_util import unique_in_order_of_appearance, increasing_labels_mapping, rmpd_lab_trnsfrm, find_or_retrieve_GMM_labels, shift_correlated_shuffle, mtfftc\n",
        "import GCoh.skull_plot as _sp\n",
        "import os\n",
        "#import AIiRPS.rpsms as rpsms\n",
        "import GCoh.preprocess_ver as _ppv\n",
        "#from AIiRPS.utils.dir_util import getResultFN\n",
        "import GCoh.datconfig as datconf\n",
        "\n",
        "import GCoh.windowed_gcoh as _w_gcoh\n",
        "import warnings\n",
        "warnings.filterwarnings(\"ignore\")\n",
        "\n",
        "os.environ[\"GCoh_on_colab\"] = \"1\"\n",
        "\n",
        "import sys\n",
        "\n",
        "def calc_gcoh(X_cm, datset, bad_chs, wnd, slideby):\n",
        "  #  assign a version number for GCoh calculation here.\n",
        "\n",
        "  #wnd, slideby      = preprocess_ver.get_win_slideby(gcoh_ver)\n",
        "\n",
        "  #cm    = 9     #  this is when using Q20\n",
        "  cm    = None   #  this is when using DSi\n",
        "\n",
        "  ch_w_CM, rm_chs, ch_names, ch_types = datconf.getConfig(dataset, sim_nchs=10, cm=cm)\n",
        "\n",
        "  if bad_chs is not None:\n",
        "      rm_chs.extend(bad_chs)\n",
        "  ch_picks = _N.setdiff1d(ch_w_CM, _N.array(rm_chs))\n",
        "  arr_ch_picks = _N.array(ch_picks)\n",
        "\n",
        "  info = mne.create_info(ch_names=(_N.array(ch_names)[ch_picks]).tolist(), ch_types=(_N.array(ch_types)[ch_picks]).tolist(), sfreq=Fs)\n",
        "\n",
        "  datconf.set_montage(dataset, info)\n",
        "\n",
        "  dpss_bw=7\n",
        "  f, findx, Ctot, Cvec = _w_gcoh.windowed_gcoh(Fs, wnd, slideby, X_cm, ch_w_CM, ch_picks, info, dpss_bw=dpss_bw)\n",
        "\n",
        "  pkldat = {\"VEC\" : Cvec, \"Cs\" : Ctot, \"fs\" : f[findx], \"chs_picks\" : arr_ch_picks, \"dpss_bw\" : dpss_bw}\n",
        "\n",
        "  return pkldat\n",
        "\n",
        "def depickle(s):\n",
        "     import pickle\n",
        "     with open(s, \"rb\") as f:\n",
        "          lm = pickle.load(f)\n",
        "     return lm\n",
        "\n",
        "\n",
        "dataset =    datconf._RPS\n",
        "c    = 2\n",
        "if dataset == datconf._SIM:\n",
        "    Fs   = 200\n",
        "if dataset == datconf._RPS or dataset == datconf._STROOP:\n",
        "    Fs   = 300\n",
        "elif dataset == datconf._GONOGO:\n",
        "    Fs   = 500\n",
        "elif dataset == datconf._AAFFECT:\n",
        "    Fs   = 500\n",
        "\n",
        "ch_w_CM, rm_chs, list_ch_names, ch_types = datconf.getConfig(dataset, sim_nchs=10)\n",
        "arr_ch_names = _N.array(list_ch_names)\n",
        "\n",
        "# arr_ch_names=_N.array([\"P3\", \"C3\", \"F3\", \"Fz\", \"F4\",   \n",
        "#                        \"C4\", \"P4\", \"Cz\", \"Pz\", \"A1\",    #  \"Pz\" is \"CM\"\n",
        "#                        \"Fp1\",\"Fp2\",\"T3\", \"T5\", \"O1\",\n",
        "#                        \"O2\", \"F7\", \"F8\", \"A2\", \"T6\",\n",
        "#                        \"T4\"])\n",
        "\n",
        "ev_n   = 0\n",
        "\n",
        "\n",
        "_WIDE = 0\n",
        "_MED  = 1\n",
        "_FINE = 2\n",
        "_FINE1 = 3   #\n",
        "\n",
        "dat=\"Apr052021_17_52_50.edf\"\n",
        "\n",
        "#bin     = 512\n",
        "#slide   = 64\n",
        "_WIDE = 0\n",
        "_FINE = 1\n",
        "\n",
        "manual_cluster=False\n",
        "armv_ver = 1\n",
        "gcoh_ver = 3   #  bandwidth 7 ver 1, bandwidth 5 ver 2, bandwidth 9 ver 3\n",
        "\n",
        "#process_keyval_args(globals(), sys.argv[1:])\n",
        "win, slideby      = _ppv.get_win_slideby(gcoh_ver)\n",
        "\n",
        "hlfOverlap = int((win/slideby)*0.5)\n",
        "\n",
        "eegedf = mne.io.read_raw_edf(dat)\n",
        "eegdat = eegedf.get_data()\n",
        "\n",
        "####  Low-pass filter the channels\n",
        "eeg_LP = _N.array(eegdat)\n",
        "\n",
        "for ich in range(25):\n",
        "    eeg_LP[ich] = mne.filter.filter_data(eegdat[ich], 1000, 1, 100, verbose=False)"
      ],
      "metadata": {
        "colab": {
          "base_uri": "https://localhost:8080/"
        },
        "id": "Pma-VCjh-4jj",
        "outputId": "462fff98-fed5-4e1a-e011-13e4ee4698ce"
      },
      "execution_count": 60,
      "outputs": [
        {
          "output_type": "stream",
          "name": "stdout",
          "text": [
            "Extracting EDF parameters from /content/Apr052021_17_52_50.edf...\n",
            "EDF file detected\n",
            "Setting channel info structure...\n",
            "Creating raw.info structure...\n"
          ]
        }
      ]
    },
    {
      "cell_type": "markdown",
      "source": [
        "**Now run GCoh on LPd EEG data**"
      ],
      "metadata": {
        "id": "7UfWjzLtkAQa"
      }
    },
    {
      "cell_type": "code",
      "source": [
        "gcoh_pkl = calc_gcoh(eeg_LP.T, dataset, None, 512, 256)\n",
        "vec_mag = _N.abs(gcoh_pkl[\"VEC\"])\n",
        "fs_gcoh = gcoh_pkl[\"fs\"]\n",
        "fs_gcoh"
      ],
      "metadata": {
        "colab": {
          "base_uri": "https://localhost:8080/"
        },
        "id": "PkJZfWMdqXhf",
        "outputId": "4305972b-8aad-4491-9d83-f00476bacef3"
      },
      "execution_count": 73,
      "outputs": [
        {
          "output_type": "execute_result",
          "data": {
            "text/plain": [
              "array([ 5.2734375,  5.859375 ,  6.4453125,  7.03125  ,  7.6171875,\n",
              "        8.203125 ,  8.7890625,  9.375    ,  9.9609375, 10.546875 ,\n",
              "       11.1328125, 11.71875  , 12.3046875, 12.890625 , 13.4765625,\n",
              "       14.0625   , 14.6484375, 15.234375 , 15.8203125, 16.40625  ,\n",
              "       16.9921875, 17.578125 , 18.1640625, 18.75     , 19.3359375,\n",
              "       19.921875 , 20.5078125, 21.09375  , 21.6796875, 22.265625 ,\n",
              "       22.8515625, 23.4375   , 24.0234375, 24.609375 , 25.1953125,\n",
              "       25.78125  , 26.3671875, 26.953125 , 27.5390625, 28.125    ,\n",
              "       28.7109375, 29.296875 , 29.8828125, 30.46875  , 31.0546875,\n",
              "       31.640625 , 32.2265625, 32.8125   , 33.3984375, 33.984375 ,\n",
              "       34.5703125, 35.15625  , 35.7421875, 36.328125 , 36.9140625,\n",
              "       37.5      , 38.0859375, 38.671875 , 39.2578125, 39.84375  ,\n",
              "       40.4296875, 41.015625 , 41.6015625, 42.1875   , 42.7734375,\n",
              "       43.359375 , 43.9453125, 44.53125  , 45.1171875, 45.703125 ,\n",
              "       46.2890625, 46.875    , 47.4609375, 48.046875 , 48.6328125,\n",
              "       49.21875  , 49.8046875])"
            ]
          },
          "metadata": {},
          "execution_count": 73
        }
      ]
    },
    {
      "cell_type": "markdown",
      "source": [
        "**Plot the EV timeseries**"
      ],
      "metadata": {
        "id": "pxjpRO5LkjaQ"
      }
    },
    {
      "cell_type": "code",
      "source": [
        "f_ranges = [[5,8], [8, 14], [15, 25],[25, 35], [35, 45]]\n",
        "\n",
        "for frng in r_canges:\n",
        "  finds = _N.where(fs_gcoh >= frng[0]) & (fs_gcoh < frng[1]))[0]\n",
        "  gcoh_frng = _N.mean(vec_mag[finds], axis=0)\n",
        "  fig = _plt.figure()\n",
        "  _plt.suptitle(\"Freq range %(1)d-%(2)d\" % {\"1\" : frng[0], \"2\" : frng[1]})\n",
        "  _plt.imshow(gcoh_frng[:, 0].T)\n",
        "\n"
      ],
      "metadata": {
        "colab": {
          "base_uri": "https://localhost:8080/",
          "height": 514
        },
        "id": "lrc2iO2bvzGR",
        "outputId": "a945efbe-6829-42f1-908e-0ee7f88a9e7e"
      },
      "execution_count": 65,
      "outputs": [
        {
          "output_type": "execute_result",
          "data": {
            "text/plain": [
              "<matplotlib.image.AxesImage at 0x7fe838ba8910>"
            ]
          },
          "metadata": {},
          "execution_count": 65
        },
        {
          "output_type": "display_data",
          "data": {
            "text/plain": [
              "<Figure size 432x288 with 1 Axes>"
            ],
            "image/png": "[encoded data removed]"
          },
          "metadata": {
            "needs_background": "light"
          }
        },
        {
          "output_type": "display_data",
          "data": {
            "text/plain": [
              "<Figure size 432x288 with 1 Axes>"
            ],
            "image/png": "[encoded data removed]"
          },
          "metadata": {
            "needs_background": "light"
          }
        },
        {
          "output_type": "display_data",
          "data": {
            "text/plain": [
              "<Figure size 432x288 with 1 Axes>"
            ],
            "image/png": "[encoded data removed]"
          },
          "metadata": {
            "needs_background": "light"
          }
        },
        {
          "output_type": "display_data",
          "data": {
            "text/plain": [
              "<Figure size 432x288 with 1 Axes>"
            ],
            "image/png": "[encoded data removed]"
          },
          "metadata": {
            "needs_background": "light"
          }
        }
      ]
    },
    {
      "cell_type": "code",
      "metadata": {
        "id": "mfQ_SFlHiS4m"
      },
      "source": [
        "\n",
        "\n",
        "outdir1     = datconf.getResultFN(dataset, \"%(dir)s\" % {\"dir\" : dat})\n",
        "if not os.acc \n",
        "     os.mkdir(outdir1)\n",
        "outdir     = datconf.getResultFN(dataset, \"%(dir)s/v%(av)d%(gv)d\" % {\"dir\" : dat, \"av\" : armv_ver, \"gv\" : gcoh_ver})\n",
        "if not os.access(outdir, os.F_OK):\n",
        "     os.mkdir(outdir)\n",
        "#  12.10.2020\n",
        "################  egenvectors\n",
        "#imag_evs  = A_gcoh_mat[\"VEC\"][0]\n",
        "\n",
        "\n",
        "imag_evs  = lm[\"VEC\"][strt:, :, ev_n]\n",
        "\n",
        "L_gcoh  = A_gcoh.shape[0]\n",
        "nChs    = imag_evs.shape[2]\n",
        "real_evs  = _N.empty((L_gcoh, n_fs.shape[0], nChs))\n",
        "\n",
        "chs = lm[\"chs_picks\"]\n",
        "ch_names = arr_ch_names[chs].tolist()\n",
        "\n",
        "for ti in range(L_gcoh):\n",
        "    real_evs[ti] = _N.abs(imag_evs[ti])\n",
        "\n",
        "mn = _N.mean(real_evs, axis=0)\n",
        "sd = _N.std(real_evs, axis=0)\n",
        "\n",
        "fs = lm[\"fs\"]\n",
        "\n",
        "\n",
        "#frngs = [[12, 18], [20, 25], [28, 35], [38, 45]]\n",
        "#frngs = [[12, 18], [20, 25], [28, 35], [35, 42], [38, 45]]\n",
        "#frngs = [[10, 15]]\n",
        "#frngs = [[10, 18]]\n",
        "#frngs = [[12, 18]]\n",
        "#frngs = [[10, 15], [20, 25], [30, 40]]\n",
        "#frngs = [[18, 25]]\n",
        "frngs = [[15, 25]]\n",
        "#frngs = [[35, 42]]\n",
        "\n",
        "#frngs = [[25, 35]]\n",
        "#frngs = [[43, 49]]\n",
        "#frngs = [[40, 50]]\n",
        "#frngs = [[30, 45]]\n",
        "#frngs = [[38, 50]]\n",
        "#frngs = [[32, 48]]\n",
        "#frngs = [[35, 47]]\n",
        "#frngs = [[8, 12], [12, 18]]\n",
        "#frngs = [[33, 40], [34, 41], [35, 42], [36, 43], [37, 44]]\n",
        "#frngs = [[12, 18], [18, 25], [25, 35], [35, 45]]\n",
        "#frngs = [[22, 28], [35, 42]]\n",
        "#frngs = [[28, 35], [38, 45]]\n",
        "\n",
        "ignore_stored = True\n",
        "pcs     = _N.empty(len(frngs))\n",
        "minK    =11\n",
        "maxK    =12\n",
        "#minK = 6\n",
        "#maxK = 7\n",
        "try_Ks  = _N.arange(minK, maxK+1)\n",
        "#TRs      = _N.array([1, 1, 3, 5, 10, 15, 20, 25, 25])  # more tries for higher K\n",
        "TRs      = _N.array([1, 15, 20, 25, 25, 30, 40, 50, 60, 60, 60, 60, 60, 60, 80, 80, 80, 80])  # more tries for higher K\n",
        "#TRs      = _N.array([60])  # more tries for higher K\n",
        "\n",
        "bics = _N.ones(((maxK-minK), _N.max(TRs)))*1000000\n",
        "labs = _N.empty((maxK-minK, _N.max(TRs), real_evs.shape[0]), dtype=_N.int)\n",
        "\n",
        "nState_start = 0\n",
        "\n",
        "for ich in range(len(frngs)):\n",
        "    fL = frngs[ich][0]\n",
        "    fH = frngs[ich][1]\n",
        "\n",
        "    irngs = _N.where((fs > fL) & (fs < fH))[0]\n",
        "    iL    = irngs[0]\n",
        "    iH    = irngs[-1]    \n",
        "\n",
        "    #Apr242020_16_53_03_gcoh_256_64\n",
        "    nStates, rmpd_lab = find_or_retrieve_GMM_labels(dataset, dat, \"%(gf)s_gcoh%(evn)d_%(wn)d_%(sld)d_v%(av)d%(gv)d\" % {\"gf\" : dat, \"av\" : armv_ver, \"gv\" : gcoh_ver, \"wn\" : win, \"sld\" : slideby, \"evn\" : ev_n}, real_evs, iL, iH, fL, fH, armv_ver, gcoh_ver, which=0, try_K=try_Ks, TRs=TRs, ignore_stored=ignore_stored, manual_cluster=manual_cluster, do_pca=True, min_var_expld=0.99)\n",
        "    ps = _N.arange(nStates)\n",
        "    ps += nState_start\n",
        "    nState_start += nStates\n",
        "\n",
        "    #nStates, rmpd_lab = find_or_retrieve_GMM_labels(rpsm[dat], \"%(dat)s_gcoh_%(w)d_%(s)d\" % {\"dat\" : dat, \"w\" : bin, \"s\" : slide}, real_evs, iL, iH, fL, fH, which=0, try_K=try_Ks, TRs=TRs, log_transform=False)\n",
        "    \"\"\"\n",
        "    ###############\n",
        "    for K in range(minK, maxK):\n",
        "        for tr in range(TRs[K]):\n",
        "            gmm = mixture.GaussianMixture(n_components=K, covariance_type=\"full\")\n",
        "\n",
        "            gmm.fit(_N.sum(real_evs[:, iL:iH], axis=1))\n",
        "            bics[K-minK, tr] = gmm.bic(_N.sum(real_evs[:, iL:iH], axis=1))\n",
        "            labs[K-minK, tr] = gmm.predict(_N.sum(real_evs[:, iL:iH], axis=1))\n",
        "\n",
        "    coords = _N.where(bics == _N.min(bics))\n",
        "    print(\"min bic %.4e\" % _N.min(bics))\n",
        "    bestLab = labs[coords[0][0], coords[1][0]]   #  indices in 2-D array\n",
        "    rmpd_lab = increasing_labels_mapping(bestLab)\n",
        "\n",
        "    nStates =  list(range(minK, maxK))[coords[0][0]]\n",
        "    \"\"\"\n",
        "    out_u = _N.mean(real_evs[:, iL:iH], axis=1)\n",
        "    out = _N.empty((L_gcoh, nChs))\n",
        "    iS  = 0\n",
        "    for ns in range(nStates):\n",
        "        ls = _N.where(rmpd_lab == ns)[0]\n",
        "        out[iS:iS+len(ls)] = _N.mean(real_evs[ls, iL:iH], axis=1)\n",
        "        iS += len(ls)\n",
        "\n",
        "    iS = 0\n",
        "    clrs  = [\"black\", \"orange\", \"blue\", \"green\", \"red\", \"lightblue\", \"grey\", \"pink\", \"yellow\", \"brown\", \"cyan\", \"purple\", \"black\", \"orange\", \"blue\", \"green\", \"red\", \"black\", \"orange\", \"blue\", \"green\", \"red\", \"lightblue\", \"grey\", \"pink\", \"yellow\", \"brown\", \"cyan\", \"purple\", \"black\", \"orange\", \"blue\", \"green\", \"red\"]\n",
        "    W   = L_gcoh\n",
        "    H   = nChs\n",
        "    disp_wh_ratio = 3\n",
        "    aspect = (W/H)/disp_wh_ratio\n",
        "    unit = 2.5\n",
        "    fig = _plt.figure(figsize=(disp_wh_ratio*unit + 1, 3*unit+unit/2))\n",
        "    _plt.subplot2grid((2, 1), (0, 0))        \n",
        "    _plt.title(\"1st GCoh eigenvector - temporal order\")\n",
        "    #fig.add_subplot(nStates+2, 1, 1)  \n",
        "    _plt.imshow(out_u.T, aspect=aspect)\n",
        "    _plt.ylim(-(nStates+2), nChs+0.1)\n",
        "    for ns in range(nStates):\n",
        "        nsx = _N.where(rmpd_lab == ns)[0]\n",
        "        _plt.scatter(nsx, _N.ones(len(nsx))*ns - nStates - 1, color=clrs[ns], lw=1.5, s=4)\n",
        "    _plt.xlim(0, L_gcoh)\n",
        "    _plt.xlabel(\"(sample #) - not in experimental temporal order\", fontsize=17)\n",
        "    _plt.ylabel(\"electrode #\", fontsize=16)\n",
        "    _plt.xlabel(\"time bin\", fontsize=16)\n",
        "    _plt.xticks(fontsize=14)\n",
        "    _plt.yticks(fontsize=14)\n",
        "\n",
        "    _plt.subplot2grid((2, 1), (1, 0))        \n",
        "    _plt.title(\"1st GCoh eigenvector - reordered by cluster label\")\n",
        "    #fig.add_subplot(nStates+2, 1, 1)    \n",
        "    _plt.imshow(out.T, aspect=aspect)\n",
        "    _plt.ylim(-(nStates+2), nChs+0.1)\n",
        "    for ns in range(nStates):\n",
        "        ls = _N.where(rmpd_lab == ns)[0]\n",
        "        liS = iS\n",
        "        iS += len(ls)\n",
        "        _plt.plot([liS, iS], [ns-nStates-1, ns-nStates-1], color=clrs[ns], lw=3.5)\n",
        "        if ns < nStates-1:\n",
        "            _plt.axvline(x=iS, color=\"white\", lw=1)\n",
        "    _plt.xlim(0, L_gcoh)\n",
        "    _plt.suptitle(\"%(ky)s   %(1)d-%(2)dHz    GCoh val: %(gcoh).3f   %(sts)s\" % {\"1\" : fL, \"2\" : fH, \"gcoh\" : _N.mean(lm[\"Cs\"][:, irngs]), \"ky\" : dat, \"sts\" : str(ps)})\n",
        "    _plt.xlabel(\"(sample #) - not in experimental temporal order\", fontsize=17)\n",
        "    _plt.ylabel(\"electrode #\", fontsize=16)\n",
        "    _plt.xlabel(\"time bin\", fontsize=16)\n",
        "    _plt.xticks(fontsize=14)\n",
        "    _plt.yticks(fontsize=14)\n",
        "\n",
        "    iS = 0\n",
        "    for ns in range(nStates):\n",
        "        ls = _N.where(rmpd_lab == ns)[0]\n",
        "        iS += len(ls)\n",
        "        if ns < nStates-1:\n",
        "            _plt.axvline(x=iS, color=\"white\", lw=1)\n",
        "    fig.subplots_adjust(left=0.1, bottom=0.1, right=0.9, hspace=0.3)\n",
        "\n",
        "    _plt.savefig(\"%(od)s/%(dat)s_%(w)d_%(sl)d_clusters_coh_pattern_%(evn)d_%(1)d_%(2)d_v%(av)d%(gv)d\" % {\"1\" : fL, \"2\" : fH, \"dat\" : dat, \"w\" : win, \"sl\" : slideby, \"od\" : outdir, \"av\" : armv_ver, \"gv\" : gcoh_ver, \"evn\" : ev_n}, transparent=True)\n",
        "    #_plt.close()\n",
        "\n",
        "    max_over_fs_each_state = _N.empty((nChs, nStates))\n",
        "    for ns in range(nStates):\n",
        "        ls = _N.where(rmpd_lab == ns)[0]\n",
        "        mn_over_fs = _N.mean(real_evs[ls, iL:iH], axis=1)\n",
        "        #min_all    = _N.min(mn_over_fs, axis=0)\n",
        "        max_over_fs_each_state[:, ns]    = _N.max(mn_over_fs, axis=0)\n",
        "    maxComp = _N.max(max_over_fs_each_state)\n",
        "\n",
        "    all_vecs = _N.empty((nChs, nStates))\n",
        "    \n",
        "    for ns in range(nStates):\n",
        "        ls = _N.where(rmpd_lab == ns)[0]\n",
        "        mn_over_fs = _N.mean(real_evs[ls, iL:iH], axis=1)\n",
        "        min_all    = _N.min(mn_over_fs, axis=0)\n",
        "        all_vecs[:, ns] = (min_all / maxComp)*1e-5\n",
        "    _sp.do_skull_plot_all_EVs(all_vecs, ps, ch_names, \"%(od)s/%(dat)s_%(w)d_%(sl)d_skull_coh_pattern_%(evn)d_%(1)d_%(2)d_v%(av)d%(gv)d\" % {\"1\" : fL, \"2\" : fH, \"dat\" : dat, \"w\" : win, \"sl\" : slideby, \"av\" : armv_ver, \"gv\" : gcoh_ver, \"od\" : outdir, \"evn\" : ev_n}, dat, fL, fH)\n",
        "\n",
        "    sts = _N.zeros(real_evs.shape[0])\n",
        "    fig = _plt.figure(figsize=(12, 3))\n",
        "\n",
        "    SHUFFLES = 100\n",
        "    maxlags=150\n",
        "    acfs     = _N.empty((SHUFFLES+1, maxlags*2+1))\n",
        "    shf_rmpd_lab = _N.empty((SHUFFLES+1, rmpd_lab.shape[0]), dtype=_N.int)\n",
        "    shf_rmpd_lab[0] = rmpd_lab\n",
        "    \n",
        "    for shf in range(1, SHUFFLES+1):\n",
        "         rl = shift_correlated_shuffle(rmpd_lab, low=hlfOverlap, high=(hlfOverlap*3), local_shuffle=True, local_shuffle_pcs=6)\n",
        "         #rl = shift_correlated_shuffle(rmpd_lab, low=1, high=2, local_shuffle=True, local_shuffle_pcs=6)\n",
        "         shf_rmpd_lab[shf] = rl\n",
        "\n",
        "    for ns in range(nStates):\n",
        "        _plt.subplot2grid((1, nStates), (0, ns))\n",
        "\n",
        "        for hlvs in range(2):\n",
        "            t0 = hlvs*(L_gcoh//2)\n",
        "            t1 = (hlvs+1)*(L_gcoh//2)\n",
        "            for shf in range(SHUFFLES+1):\n",
        "                sts[:]=0\n",
        "                sts[_N.where(shf_rmpd_lab[shf] == ns)[0]] = 1\n",
        "                #_plt.acorr(sts - _N.mean(sts), maxlags=150, usevlines=False, ms=2, color=clr, lw=lw)\n",
        "                acfs[shf] = autocorrelate(sts[t0:t1] - _N.mean(sts[t0:t1]), maxlags)\n",
        "                acfs[shf, maxlags] = 0\n",
        "            sACFS = _N.sort(acfs[1:], axis=0)\n",
        "            _plt.plot(_N.arange(-maxlags, maxlags+1), acfs[0] + (1-hlvs)*0.7, color=\"black\", lw=2)\n",
        "            _plt.fill_between(_N.arange(-maxlags, maxlags+1), sACFS[int(SHUFFLES*0.025)] + 0.7*(1-hlvs), sACFS[int(SHUFFLES*0.975)] + 0.7*(1-hlvs), alpha=0.3, color=\"blue\")\n",
        "\n",
        "            #_plt.xticks([-(Fs/slideby)*15, -(Fs/slideby)*10, -(Fs/slideby)*5, 0, (Fs/slideby)*5, (Fs/slideby)*10, (Fs/slideby)*15], [-15, -10, -5, 0, 5, 10, 15], fontsize=15)   #stroop\n",
        "            #_plt.xticks([-(Fs/slideby)*45, -(Fs/slideby)*30, -(Fs/slideby)*15, 0, (Fs/slideby)*15, (Fs/slideby)*30, (Fs/slideby)*45], [-45, -30, -15, 0, 15, 30, 45], fontsize=15)   #RPS\n",
        "            _plt.xticks([-(Fs/slideby)*30, -(Fs/slideby)*20, -(Fs/slideby)*10, 0, (Fs/slideby)*10, (Fs/slideby)*20, (Fs/slideby)*30], [-30, -20, -10, 0, 10, 20, 30], fontsize=15)   #RPS\n",
        "            _plt.yticks(fontsize=14)\n",
        "            #_plt.ylim(-0.08, 0.2)\n",
        "            _plt.ylim(-0.08, 1.4)\n",
        "            #_plt.xlim(-(Fs/slideby)*15, (Fs/slideby)*15)    #  Stroop\n",
        "            #_plt.xlim(-(Fs/slideby)*50, (Fs/slideby)*50)    #  RPS\n",
        "        _plt.xlim(-(Fs/slideby)*30, (Fs/slideby)*30)    #  RPS\n",
        "        _plt.grid(ls=\":\")\n",
        "        _plt.xlabel(\"lag (seconds)\", fontsize=16)\n",
        "        _plt.ylabel(\"autocorrelation\", fontsize=16)\n",
        "        _plt.title(\"pattern %d\" % ns)\n",
        "    _plt.suptitle(\"%(1)d-%(2)dHz\" % {\"1\" : fL, \"2\" : fH})\n",
        "    fig.subplots_adjust(left=0.15, bottom=0.2, wspace=0.4, right=0.98, top=0.9)\n",
        "    #_plt.savefig(\"%(od)s/%(dat)s_%(w)d_%(sl)d_acorr_%(evn)d_%(1)d_%(2)d_v%(av)d%(gv)d\" % {\"1\" : fL, \"2\" : fH, \"dat\" : dat, \"w\" : win, \"sl\" : slideby, \"av\" : armv_ver, \"gv\" : gcoh_ver, \"od\" : outdir, \"evn\" : ev_n}, transparent=True)\n",
        "\n"
      ],
      "execution_count": null,
      "outputs": []
    }
  ]
}